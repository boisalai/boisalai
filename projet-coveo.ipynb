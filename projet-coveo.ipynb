{
 "cells": [
  {
   "cell_type": "markdown",
   "id": "590211e3-964c-4f0f-aaa2-98a5810b2a87",
   "metadata": {},
   "source": [
    "# SIGIR eCOM 2021 Data Challenge\n",
    "\n",
    "- Coveo\n",
    "    - [GitHub](https://github.com/coveooss/SIGIR-ecom-data-challenge) de la compétition.\n",
    "    - https://arxiv.org/pdf/2104.09423.pdf\n",
    "    - Les données sont disponibles ici: https://www.coveo.com/en/ailabs/sigir-ecom-data-challenge\n",
    "- La solution de l'équipe NVIDIA\n",
    "    - [Winning the SIGIR eCommerce Challenge on session-based recommendation with Transformers](https://medium.com/nvidia-merlin/winning-the-sigir-ecommerce-challenge-on-session-based-recommendation-with-transformers-v2-793f6fac2994\n",
    "    - [GitHub](https://github.com/NVIDIA-Merlin/competitions/tree/main/SIGIR_eCommerce_Challenge_2021).  Malheureusement ce dépôt GitHub ne contient pas le fichier `test/rec_test_phase_1.json` pour créer le fichier test. On ne peut donc pas reproduire les calculs précis de l'équipe NVIDIA.\n",
    "    - [Paper](https://arxiv.org/abs/2107.05124)\n",
    "- Transformers4Rec\n",
    "  - NVIDIA, [Transformers4Rec](https://github.com/NVIDIA-Merlin/Transformers4Rec) sur GitHub\n",
    "  - [Tutorial](https://nvidia-merlin.github.io/Transformers4Rec/main/examples/tutorial/index.html)"
   ]
  },
  {
   "cell_type": "code",
   "execution_count": 83,
   "id": "70857679-902d-4ebf-893b-2b8f04d1a899",
   "metadata": {},
   "outputs": [],
   "source": [
    "import os \n",
    "import pandas as pd\n",
    "from tqdm import tqdm\n",
    "tqdm.pandas()"
   ]
  },
  {
   "cell_type": "markdown",
   "id": "83e82590-3c56-4c15-be7f-d46de5dcbee9",
   "metadata": {},
   "source": [
    "## How to Start\n",
    "\n",
    "Le code de cette section provient de [How to Start](https://github.com/coveooss/SIGIR-ecom-data-challenge/blob/main/README_DC_2021.md#how-to-start).\n",
    "\n",
    "Download the `zip` folder and unzip it in your local machine. To verify that all is well, you can run the simple `start/dataset_stats.py` script in the folder: the script will parse the three files, show some sample rows and print out some basic stats and counts (if you don't modify the three paths, it will run on the sample `csv`)."
   ]
  },
  {
   "cell_type": "code",
   "execution_count": 2,
   "id": "46f7fa3e-167d-4e13-b394-6af54cff13c5",
   "metadata": {},
   "outputs": [],
   "source": [
    "PATH = \"/Users/alain/data/SIGIR-ecom-data-challenge\""
   ]
  },
  {
   "cell_type": "code",
   "execution_count": 3,
   "id": "c68b1423-34d4-4a56-9da1-5ce615a61ff2",
   "metadata": {},
   "outputs": [
    {
     "name": "stdout",
     "output_type": "stream",
     "text": [
      "Starting our counts at 2023-10-15 17:01:46.477128\n",
      "\n",
      "============== /Users/alain/data/SIGIR-ecom-data-challenge/start/browsing_train_sample.csv\n",
      "{'session_id_hash': '20c458b802f6ea9374783bfc528b19421be977a6769785ec2b357915dd6fda84', 'event_type': 'event_product', 'product_action': 'detail', 'product_sku_hash': 'd5157f8bc52965390fa21ad5842a8502bc3eb8b0930f3f8eafbc503f4012f69c', 'server_timestamp_epoch_ms': '1550885210881', 'hashed_url': '7e4527ac6a32deed4f4f06bb7c49b907b7ca371e59d57d2bb8b99951799f45ea'}\n",
      "{'session_id_hash': '20c458b802f6ea9374783bfc528b19421be977a6769785ec2b357915dd6fda84', 'event_type': 'event_product', 'product_action': 'detail', 'product_sku_hash': '61ef3869355b78e11011f39fc7ac8f8dfb209b3442a9d516576eb808a0904dc3', 'server_timestamp_epoch_ms': '1550885213307', 'hashed_url': '4ed279f4f0deab6dfc80f4f7bf49d527fd894fa478a9ce44dc007eaed41f4ad9'}\n",
      "# 34 browsing events\n",
      "\n",
      "============== /Users/alain/data/SIGIR-ecom-data-challenge/start/search_train_sample.csv\n",
      "{'session_id_hash': '48fade624d47870058ce07dd789ccc04e46c70c0fa2a1b6a2bbbec644b8ced78', 'query_vector': '[-0.20255649089813232, -0.016908567398786545, 0.03185821324586868, -0.015581827610731125, -0.10172676295042038, 0.01874350756406784, 0.04725143313407898, -0.016461631283164024, -0.02654413878917694, -0.007069973275065422, 0.010417938232421875, -0.024177979677915573, 0.04093277454376221, -0.046887047588825226, 0.049667637795209885, -0.004469859413802624, 0.05775374174118042, -0.042498476803302765, -0.02269821986556053, 0.07678176462650299, -0.02753078192472458, 0.01717502437531948, -0.06250197440385818, -0.08207464218139648, -0.0018873224034905434, -0.017425723373889923, -0.002389764878898859, 0.023169031366705894, 0.00035938993096351624, -0.03191417083144188, -0.030703406780958176, 0.00790809839963913, 0.07591909170150757, -0.011832790449261665, 0.05656413733959198, -0.033919960260391235, 0.09407337009906769, -0.01793554425239563, 0.1617342084646225, -0.009356673806905746, -0.08132532238960266, 0.03329966589808464, -0.05209055915474892, 0.012423611246049404, 0.032936763018369675, 0.04995895177125931, -0.011336416937410831, 0.09408022463321686, 0.022559957578778267, -0.045351870357990265]', 'clicked_skus_hash': '', 'product_skus_hash': '', 'server_timestamp_epoch_ms': '1548575194779'}\n",
      "{'session_id_hash': '8731ca84ff7bb8cb647531d54e64feedb2519b4a7792a7f2f8d58a31b260943c', 'query_vector': '[-0.007610442116856575, -0.14909175038337708, -0.002055693417787552, 0.04576800391077995, 0.28877580165863037, 0.02357596904039383, 0.13057288527488708, -0.1204918771982193, -0.03269338980317116, 0.01047830656170845, -0.0038716450799256563, 0.015053888782858849, -0.00637313537299633, 0.041311606764793396, 0.02076493203639984, -0.007763695903122425, -0.04396222531795502, 0.015060759149491787, 0.0034960140474140644, -0.0025871768593788147, 0.08221832662820816, -0.01402013748884201, -0.08996069431304932, -0.03792077675461769, -0.010184992104768753, -0.004052744247019291, -0.009548389352858067, 0.019774066284298897, 0.026287637650966644, 0.02502792328596115, -0.0049176765605807304, -0.0012942347675561905, -0.04061437025666237, 0.02209177426993847, -0.012081479653716087, 0.03560860455036163, -0.06399288773536682, 0.05501893162727356, -0.0015108948573470116, -0.009665164165198803, -0.028894364833831787, 0.0426357239484787, -0.04191335290670395, -0.05612745136022568, 0.02934648096561432, -0.05238523334264755, -0.049254149198532104, 0.06014076620340347, -0.04428858682513237, -0.07708389312028885]', 'clicked_skus_hash': '', 'product_skus_hash': \"['9ee9ffd7e2529a65f9a0b0c9eaae6330df85cf2e3af33ef58dcf70fb5856c86a', '4367f3b54eded7d6f8800a381dec2970e3751dc9c14a1be6861ce25347662994', '54f0f45519bbff585a55899d88e4cca03e61b88f90783edf17454131f9a5bb73']\", 'server_timestamp_epoch_ms': '1548276763869'}\n",
      "# 10 search events\n",
      "\n",
      "============== /Users/alain/data/SIGIR-ecom-data-challenge/start/sku_to_content_sample.csv\n",
      "{'product_sku_hash': 'a2c3e2430c6ef9770b903ad08fa067a6b2b9db28f06e1bc303547cbdb166c433', 'description_vector': '[0.27629122138023376, -0.15763211250305176, 0.20498991012573242, 0.14392423629760742, 0.02859744429588318, 0.032556530088186264, 0.0425204336643219, 0.048966649919748306, -0.005429103970527649, -0.15156537294387817, -0.0761469304561615, 0.008084282279014587, 0.16259127855300903, 0.06268741190433502, 0.07540282607078552, -0.14114734530448914, 0.032842863351106644, 0.05774400383234024, 0.01570936292409897, 0.0791906863451004, 0.044912777841091156, 0.08371087163686752, 0.012448647990822792, 0.02274206466972828, -0.008040498942136765, 0.02965005487203598, -0.01073429174721241, -0.10582432895898819, -0.0049352035857737064, 0.02189919725060463, 0.05689143389463425, -0.06139263138175011, 0.0058634416200220585, -0.040987320244312286, 0.022118519991636276, 0.013095390051603317, -0.03030797839164734, -0.06476592272520065, -0.036668576300144196, 0.006767163518816233, -0.07804811000823975, -0.0834140032529831, 0.032515641301870346, 0.0027643367648124695, -0.03663724660873413, 0.03451046720147133, -0.008565815165638924, 0.013749184086918831, -0.06541545689105988, 0.029340581968426704]', 'category_hash': '06fa312761d4b39e2f649781514ac69a4c1505c221fc463426d38a2de1679683/49d80fcbc8128f7ea2bfa33cc9e8405f6b604efbbdd8fd77b06ebe367403b2ab/115a6a7017ee55752b8487c77dfde92b0d501d10a2e69c420d5d535205b27f81', 'image_vector': '[340.3592564184389, -220.19025864725685, 154.08589911634107, 54.613051997634415, 58.25951372631849, 94.59602356444196, 115.5546297632157, 100.8790425830826, -59.62565875126851, 59.17217189522084, -69.90354735324398, -13.643084833661671, -20.925769883225794, 91.67353936394562, -73.14549038302759, 86.31523373310287, 35.28784261255909, 129.162690792141, -76.35999632844582, 44.192701280848894, -29.706338693439115, -11.812866154722444, 98.44367864453986, 10.744801944140775, 10.934785979371423, 7.996371529503798, 4.211931642715507, 10.0455261822466, 11.086967189594343, 0.14021891923964347, 13.359575259817777, -35.115868916377025, -20.201591013635404, 16.19069682926293, -69.23046580593561, -24.911955858990588, -2.5991547104742434, 13.004824589176527, -15.701478529226732, -14.783676995904763, 46.99732924004995, -7.695001829783383, -6.140431030396864, 41.50459974761075, -98.17476036245894, -16.196734442697156, 29.72265431542192, -30.881698824388177, 54.33105446621461, 0.6460993347180128]', 'price_bucket': '7.0'}\n",
      "{'product_sku_hash': '9870c682d0d52d635501249da0eeaa118fad430b695ea17249da02438fbab5cc', 'description_vector': '[-0.3206155300140381, 0.01991105079650879, 0.012587778270244598, -0.323910653591156, 0.20413319766521454, -0.03314844146370888, 0.09954024851322174, -0.16137036681175232, -0.04882458969950676, -0.04503757506608963, -0.08505879342556, 0.002115321345627308, 0.0379120334982872, -0.08126094192266464, -2.3199710994958878e-05, 0.1304796040058136, 0.03854574263095856, 0.16611988842487335, -0.0575147308409214, -0.14036822319030762, 0.036785855889320374, 0.03890655189752579, -0.04348204284906387, 0.08287549018859863, 0.0243816040456295, 0.0054317438043653965, 0.023287486284971237, -0.05643916875123978, 0.05699824541807175, 0.08238320797681808, 0.10293243825435638, 0.094457246363163, -0.044721223413944244, -0.02680319733917713, -0.026570338755846024, 0.0016995295882225037, 0.023316815495491028, -0.06468257308006287, -9.71602275967598e-06, -0.013617167249321938, -0.043855953961610794, -0.010623747482895851, -0.048465777188539505, -0.04709893837571144, 0.017600947991013527, -0.09571988135576248, -0.03160473704338074, 0.004239215515553951, 0.014840751886367798, -0.008137889206409454]', 'category_hash': '0665a81d19c89281cc00e7f7d779ded2ed42c933838602c303f2364d8e6b7059/a140250159ef8df5e64afa36973cefbb2b28e7b5fe0e40a3fd590238e49166da/7279e67dc98586a6003e64e56312b32c9ea54679af8f5ee61d5e35d24911bd49', 'image_vector': '[-114.81079301576219, 84.55770104232334, 85.51753099059488, -18.088053441755385, -4.060084279785439, -9.591500388169116, 105.57546186898325, -6.397733244588725, 42.01109623785901, 33.90742506412957, 55.050595004187215, -23.271091754310333, 35.90983885488038, -31.14004882709796, -11.586262346923231, 31.648118295246515, 14.224197318887796, -70.59979580909362, -33.026475932109165, -55.48934023470133, 0.020000490267833904, 15.527217811671592, 36.36456716305914, -54.67079725997027, -45.37288078335403, 21.488157596308735, -31.63131364279802, -57.08086858889976, 39.81920910280961, 11.678554056118749, 44.03212720485901, 7.83744741854732, -36.19326571580306, -11.591644939038218, 59.99453552825405, -20.19077269928696, 73.2132772212778, -1.164818595320643, 41.7011536326781, 32.38126267017978, 25.63314309253754, 19.82320734688758, -6.003224440719562, 10.89389218569002, 32.24699283103098, -9.935189695490653, 68.00385863720555, 22.11285900353412, -8.380134462429158, -1.2806911634425637]', 'price_bucket': '2.0'}\n",
      "# 4 products\n",
      "\n",
      "\n",
      "=============== COUNTS ===============\n",
      "# 6 of distinct SKUs with interactions\n",
      "# 0 of add-to-cart events\n",
      "# 0 of purchase events\n",
      "# 10 of total interactions\n",
      "# 2 of distinct sessions\n",
      "\n",
      "\n",
      "*************** TESTS ***************\n",
      "All done at 2023-10-15 17:01:46.480175: see you, space cowboy!\n"
     ]
    }
   ],
   "source": [
    "import csv\n",
    "from datetime import datetime\n",
    "\n",
    "# put here the file paths if you did not unzip in same folder\n",
    "BROWSING_FILE_PATH = os.path.join(PATH, 'start/browsing_train_sample.csv')\n",
    "SEARCH_TRAIN_PATH = os.path.join(PATH, 'start/search_train_sample.csv')\n",
    "SKU_2_CONTENT_PATH = os.path.join(PATH, 'start/sku_to_content_sample.csv')\n",
    "\n",
    "\n",
    "def get_rows(file_path: str, print_limit: int = 2):\n",
    "    \"\"\"\n",
    "    Util function reading the csv file and printing the first few lines out for visual debugging.\n",
    "\n",
    "    :param file_path: local path to the csv file\n",
    "    :param print_limit: specifies how many rows to print out in the console for debug\n",
    "    :return: list of dictionaries, one per each row in the file\n",
    "    \"\"\"\n",
    "    rows = []\n",
    "    print(\"\\n============== {}\".format(file_path))\n",
    "    with open(file_path) as csvfile:\n",
    "        reader = csv.DictReader(csvfile)\n",
    "        for idx, row in enumerate(reader):\n",
    "            # print out first few lines\n",
    "            if idx < print_limit:\n",
    "                print(row)\n",
    "            rows.append(row)\n",
    "\n",
    "    return rows\n",
    "\n",
    "\n",
    "def get_descriptive_stats(\n",
    "        browsing_train_path : str,\n",
    "        search_train_path: str,\n",
    "        sku_2_content_path: str\n",
    "):\n",
    "    \"\"\"\n",
    "    Simple function showing how to read the main training files, print out some\n",
    "    example rows, and producing the counts found in the Data Challenge paper.\n",
    "\n",
    "    We use basic python library commands, optimizing for clarity, not performance.\n",
    "\n",
    "    :param browsing_train_path: path to the file containing the browsing interactions\n",
    "    :param search_train_path: path to the file containing the search interactions\n",
    "    :param sku_2_content_path: path to the file containing the product meta-data\n",
    "    :return:\n",
    "    \"\"\"\n",
    "    print(\"Starting our counts at {}\".format(datetime.utcnow()))\n",
    "    # first, just read in the csv files and display some rows\n",
    "    browsing_events = get_rows(browsing_train_path)\n",
    "    print(\"# {} browsing events\".format(len(browsing_events)))\n",
    "    search_events = get_rows(search_train_path)\n",
    "    print(\"# {} search events\".format(len(search_events)))\n",
    "    sku_mapping = get_rows(sku_2_content_path)\n",
    "    print(\"# {} products\".format(len(sku_mapping)))\n",
    "    # now do some counts\n",
    "    print(\"\\n\\n=============== COUNTS ===============\")\n",
    "    print(\"# {} of distinct SKUs with interactions\".format(\n",
    "        len(set([r['product_sku_hash'] for r in browsing_events if r['product_sku_hash']]))))\n",
    "    print(\"# {} of add-to-cart events\".format(sum(1 for r in browsing_events if r['product_action'] == 'add')))\n",
    "    print(\"# {} of purchase events\".format(sum(1 for r in browsing_events if r['product_action'] == 'purchase')))\n",
    "    print(\"# {} of total interactions\".format(sum(1 for r in browsing_events if r['product_action'])))\n",
    "    print(\"# {} of distinct sessions\".format(\n",
    "        len(set([r['session_id_hash'] for r in browsing_events if r['session_id_hash']]))))\n",
    "    # now run some tests\n",
    "    print(\"\\n\\n*************** TESTS ***************\")\n",
    "    for r in browsing_events:\n",
    "        assert len(r['session_id_hash']) == 64\n",
    "        assert not r['product_sku_hash'] or len(r['product_sku_hash']) == 64\n",
    "    for p in sku_mapping:\n",
    "        assert not p['price_bucket'] or float(p['price_bucket']) <= 10\n",
    "    # say goodbye\n",
    "    print(\"All done at {}: see you, space cowboy!\".format(datetime.utcnow()))\n",
    "\n",
    "    return\n",
    "\n",
    "\n",
    "if __name__ == \"__main__\":\n",
    "    get_descriptive_stats(\n",
    "        BROWSING_FILE_PATH,\n",
    "        SEARCH_TRAIN_PATH,\n",
    "        SKU_2_CONTENT_PATH\n",
    "    )"
   ]
  },
  {
   "cell_type": "markdown",
   "id": "b950dad7-19f9-4def-9f15-fcd823e6adf1",
   "metadata": {},
   "source": [
    "## Loading Train Data\n",
    "\n",
    "See https://github.com/NVIDIA-Merlin/competitions/blob/main/SIGIR_eCommerce_Challenge_2021/task1_session_based_rec/0-eda/EDA_train_x_test_set.ipynb"
   ]
  },
  {
   "cell_type": "markdown",
   "id": "5965c81f-4abc-4b29-8ce3-5b55c591d440",
   "metadata": {},
   "source": [
    "### Browsing Events\n",
    "\n",
    "Le fichier `browsing_train.csv` contient près de 5M de sessions d'achat anonymisées [sessions](https://support.google.com/analytics/answer/2731565?hl=fr).\n",
    "La structure de cet ensemble de données est similaire à notre publication de données [Scientific Reports](https://github.com/coveooss/shopper-intent-prediction-nature-2020) :\n",
    "chaque ligne correspond à un événement de navigation dans une session, contenant des informations sur la session et l'horodatage, ainsi que\n",
    "des détails (hachés) sur l'interaction (était-ce un événement _achat_ ou un événement _détail_ ? Était-ce une simple _page vue_ ou une action\n",
    "de produit spécifique ?). Toutes les données ont été collectées et traitées de manière anonyme grâce à notre [SDK](https://docs.coveo.com/en/3188/coveo-for-commerce/tracking-commerce-events) standard :\n",
    "n'oubliez pas que le suivi en front-end est par nature imparfait, donc de petites incohérences sont à prévoir.\n",
    "\n",
    "Champ | Type | Description\n",
    "------------ | ------------- | -------------\n",
    "session_id_hash | chaîne de caractères | Identifiant haché de la session d'achat. Une session regroupe des événements qui sont espacés d'au maximum 30 minutes : si le même utilisateur revient sur le site cible après 31 minutes depuis la dernière interaction, un nouvel identifiant de session est attribué.\n",
    "event_type | énumération | Le type d'événement selon le [Protocole Google](https://developers.google.com/analytics/devguides/collection/protocol/v1), l'un des { _pageview_ , _event_ } ; par exemple, un événement _add_ peut se produire lors du chargement d'une page ou en tant qu'événement autonome.\n",
    "product_action | énumération | L'un des { _detail_, _add_, _purchase_, _remove_ }. Si le champ est vide, l'événement est une simple vue de page (par exemple, la page `FAQ`) sans produits associés. Veuillez également noter qu'une action impliquant la suppression d'un produit du panier peut entraîner plusieurs événements _remove_ consécutifs. Veuillez noter que les événements _click_ (c'est-à-dire les événements générés en cliquant sur une page de recherche) sont inclus dans le fichier `search_train.csv`.\n",
    "product_sku_hash | chaîne de caractères | Si l'événement est un événement _product_, identifiant haché du produit dans l'événement.\n",
    "server_timestamp_epoch_ms | entier | Temps d'époque, en millisecondes. Comme technique d'anonymisation supplémentaire, l'horodatage a été décalé d'un nombre de semaines non spécifié, en préservant les modèles intra-semaine.\n",
    "hashed_url | chaîne de caractères | URL hachée de la page web actuelle.\n",
    "\n",
    "Enfin, veuillez noter qu'un PDP peut générer à la fois un événement _detail_ et un événement _pageview_, et que l'ordre des événements dans le\n",
    "fichier n'est pas strictement chronologique (reportez-vous à l'identifiant de session et aux informations d'horodatage pour reconstruire la\n",
    "chaîne réelle des événements pour une session donnée).\n"
   ]
  },
  {
   "cell_type": "code",
   "execution_count": 87,
   "id": "ee7b6c9f-2deb-4208-88b8-537c2d81a84b",
   "metadata": {},
   "outputs": [
    {
     "name": "stdout",
     "output_type": "stream",
     "text": [
      "<class 'pandas.core.frame.DataFrame'>\n",
      "RangeIndex: 36079307 entries, 0 to 36079306\n",
      "Data columns (total 6 columns):\n",
      " #   Column                     Dtype \n",
      "---  ------                     ----- \n",
      " 0   session_id_hash            object\n",
      " 1   event_type                 object\n",
      " 2   product_action             object\n",
      " 3   product_sku_hash           object\n",
      " 4   server_timestamp_epoch_ms  int64 \n",
      " 5   hashed_url                 object\n",
      "dtypes: int64(1), object(5)\n",
      "memory usage: 1.6+ GB\n"
     ]
    }
   ],
   "source": [
    "train_browsing_df = pd.read_csv(os.path.join(PATH, 'train/browsing_train.csv'))\n",
    "train_browsing_df.info()"
   ]
  },
  {
   "cell_type": "code",
   "execution_count": 5,
   "id": "f0030082-cd72-428a-bc5c-0e27a90046cb",
   "metadata": {},
   "outputs": [
    {
     "data": {
      "text/html": [
       "<div>\n",
       "<style scoped>\n",
       "    .dataframe tbody tr th:only-of-type {\n",
       "        vertical-align: middle;\n",
       "    }\n",
       "\n",
       "    .dataframe tbody tr th {\n",
       "        vertical-align: top;\n",
       "    }\n",
       "\n",
       "    .dataframe thead th {\n",
       "        text-align: right;\n",
       "    }\n",
       "</style>\n",
       "<table border=\"1\" class=\"dataframe\">\n",
       "  <thead>\n",
       "    <tr style=\"text-align: right;\">\n",
       "      <th></th>\n",
       "      <th>session_id_hash</th>\n",
       "      <th>event_type</th>\n",
       "      <th>product_action</th>\n",
       "      <th>product_sku_hash</th>\n",
       "      <th>server_timestamp_epoch_ms</th>\n",
       "      <th>hashed_url</th>\n",
       "    </tr>\n",
       "  </thead>\n",
       "  <tbody>\n",
       "    <tr>\n",
       "      <th>0</th>\n",
       "      <td>20c458b802f6ea9374783bfc528b19421be977a6769785...</td>\n",
       "      <td>event_product</td>\n",
       "      <td>detail</td>\n",
       "      <td>d5157f8bc52965390fa21ad5842a8502bc3eb8b0930f3f...</td>\n",
       "      <td>1550885210881</td>\n",
       "      <td>7e4527ac6a32deed4f4f06bb7c49b907b7ca371e59d57d...</td>\n",
       "    </tr>\n",
       "    <tr>\n",
       "      <th>1</th>\n",
       "      <td>20c458b802f6ea9374783bfc528b19421be977a6769785...</td>\n",
       "      <td>event_product</td>\n",
       "      <td>detail</td>\n",
       "      <td>61ef3869355b78e11011f39fc7ac8f8dfb209b3442a9d5...</td>\n",
       "      <td>1550885213307</td>\n",
       "      <td>4ed279f4f0deab6dfc80f4f7bf49d527fd894fa478a9ce...</td>\n",
       "    </tr>\n",
       "    <tr>\n",
       "      <th>2</th>\n",
       "      <td>20c458b802f6ea9374783bfc528b19421be977a6769785...</td>\n",
       "      <td>pageview</td>\n",
       "      <td>NaN</td>\n",
       "      <td>NaN</td>\n",
       "      <td>1550885213307</td>\n",
       "      <td>4ed279f4f0deab6dfc80f4f7bf49d527fd894fa478a9ce...</td>\n",
       "    </tr>\n",
       "    <tr>\n",
       "      <th>3</th>\n",
       "      <td>20c458b802f6ea9374783bfc528b19421be977a6769785...</td>\n",
       "      <td>event_product</td>\n",
       "      <td>detail</td>\n",
       "      <td>d5157f8bc52965390fa21ad5842a8502bc3eb8b0930f3f...</td>\n",
       "      <td>1550885215484</td>\n",
       "      <td>7e4527ac6a32deed4f4f06bb7c49b907b7ca371e59d57d...</td>\n",
       "    </tr>\n",
       "    <tr>\n",
       "      <th>4</th>\n",
       "      <td>20c458b802f6ea9374783bfc528b19421be977a6769785...</td>\n",
       "      <td>pageview</td>\n",
       "      <td>NaN</td>\n",
       "      <td>NaN</td>\n",
       "      <td>1550885215484</td>\n",
       "      <td>7e4527ac6a32deed4f4f06bb7c49b907b7ca371e59d57d...</td>\n",
       "    </tr>\n",
       "    <tr>\n",
       "      <th>...</th>\n",
       "      <td>...</td>\n",
       "      <td>...</td>\n",
       "      <td>...</td>\n",
       "      <td>...</td>\n",
       "      <td>...</td>\n",
       "      <td>...</td>\n",
       "    </tr>\n",
       "    <tr>\n",
       "      <th>36079302</th>\n",
       "      <td>0676f342dc490b0f8bd9c22d16e4c67f8f7af1f85679f1...</td>\n",
       "      <td>pageview</td>\n",
       "      <td>NaN</td>\n",
       "      <td>NaN</td>\n",
       "      <td>1552162324909</td>\n",
       "      <td>38f5bd3c9a1cc5b39e6b965f1aa6c565737f58e19a560a...</td>\n",
       "    </tr>\n",
       "    <tr>\n",
       "      <th>36079303</th>\n",
       "      <td>0676f342dc490b0f8bd9c22d16e4c67f8f7af1f85679f1...</td>\n",
       "      <td>pageview</td>\n",
       "      <td>NaN</td>\n",
       "      <td>NaN</td>\n",
       "      <td>1552162336608</td>\n",
       "      <td>38f5bd3c9a1cc5b39e6b965f1aa6c565737f58e19a560a...</td>\n",
       "    </tr>\n",
       "    <tr>\n",
       "      <th>36079304</th>\n",
       "      <td>0676f342dc490b0f8bd9c22d16e4c67f8f7af1f85679f1...</td>\n",
       "      <td>pageview</td>\n",
       "      <td>NaN</td>\n",
       "      <td>NaN</td>\n",
       "      <td>1552162343684</td>\n",
       "      <td>38f5bd3c9a1cc5b39e6b965f1aa6c565737f58e19a560a...</td>\n",
       "    </tr>\n",
       "    <tr>\n",
       "      <th>36079305</th>\n",
       "      <td>0676f342dc490b0f8bd9c22d16e4c67f8f7af1f85679f1...</td>\n",
       "      <td>pageview</td>\n",
       "      <td>NaN</td>\n",
       "      <td>NaN</td>\n",
       "      <td>1552162356368</td>\n",
       "      <td>433b0e71df1fe9a8d1f45647545701f6108414c40eef76...</td>\n",
       "    </tr>\n",
       "    <tr>\n",
       "      <th>36079306</th>\n",
       "      <td>0676f342dc490b0f8bd9c22d16e4c67f8f7af1f85679f1...</td>\n",
       "      <td>pageview</td>\n",
       "      <td>NaN</td>\n",
       "      <td>NaN</td>\n",
       "      <td>1552162390080</td>\n",
       "      <td>fb12a2500433a3ef2f92eae62941ce6b2db8616ce6c992...</td>\n",
       "    </tr>\n",
       "  </tbody>\n",
       "</table>\n",
       "<p>36079307 rows × 6 columns</p>\n",
       "</div>"
      ],
      "text/plain": [
       "                                            session_id_hash     event_type  \\\n",
       "0         20c458b802f6ea9374783bfc528b19421be977a6769785...  event_product   \n",
       "1         20c458b802f6ea9374783bfc528b19421be977a6769785...  event_product   \n",
       "2         20c458b802f6ea9374783bfc528b19421be977a6769785...       pageview   \n",
       "3         20c458b802f6ea9374783bfc528b19421be977a6769785...  event_product   \n",
       "4         20c458b802f6ea9374783bfc528b19421be977a6769785...       pageview   \n",
       "...                                                     ...            ...   \n",
       "36079302  0676f342dc490b0f8bd9c22d16e4c67f8f7af1f85679f1...       pageview   \n",
       "36079303  0676f342dc490b0f8bd9c22d16e4c67f8f7af1f85679f1...       pageview   \n",
       "36079304  0676f342dc490b0f8bd9c22d16e4c67f8f7af1f85679f1...       pageview   \n",
       "36079305  0676f342dc490b0f8bd9c22d16e4c67f8f7af1f85679f1...       pageview   \n",
       "36079306  0676f342dc490b0f8bd9c22d16e4c67f8f7af1f85679f1...       pageview   \n",
       "\n",
       "         product_action                                   product_sku_hash  \\\n",
       "0                detail  d5157f8bc52965390fa21ad5842a8502bc3eb8b0930f3f...   \n",
       "1                detail  61ef3869355b78e11011f39fc7ac8f8dfb209b3442a9d5...   \n",
       "2                   NaN                                                NaN   \n",
       "3                detail  d5157f8bc52965390fa21ad5842a8502bc3eb8b0930f3f...   \n",
       "4                   NaN                                                NaN   \n",
       "...                 ...                                                ...   \n",
       "36079302            NaN                                                NaN   \n",
       "36079303            NaN                                                NaN   \n",
       "36079304            NaN                                                NaN   \n",
       "36079305            NaN                                                NaN   \n",
       "36079306            NaN                                                NaN   \n",
       "\n",
       "          server_timestamp_epoch_ms  \\\n",
       "0                     1550885210881   \n",
       "1                     1550885213307   \n",
       "2                     1550885213307   \n",
       "3                     1550885215484   \n",
       "4                     1550885215484   \n",
       "...                             ...   \n",
       "36079302              1552162324909   \n",
       "36079303              1552162336608   \n",
       "36079304              1552162343684   \n",
       "36079305              1552162356368   \n",
       "36079306              1552162390080   \n",
       "\n",
       "                                                 hashed_url  \n",
       "0         7e4527ac6a32deed4f4f06bb7c49b907b7ca371e59d57d...  \n",
       "1         4ed279f4f0deab6dfc80f4f7bf49d527fd894fa478a9ce...  \n",
       "2         4ed279f4f0deab6dfc80f4f7bf49d527fd894fa478a9ce...  \n",
       "3         7e4527ac6a32deed4f4f06bb7c49b907b7ca371e59d57d...  \n",
       "4         7e4527ac6a32deed4f4f06bb7c49b907b7ca371e59d57d...  \n",
       "...                                                     ...  \n",
       "36079302  38f5bd3c9a1cc5b39e6b965f1aa6c565737f58e19a560a...  \n",
       "36079303  38f5bd3c9a1cc5b39e6b965f1aa6c565737f58e19a560a...  \n",
       "36079304  38f5bd3c9a1cc5b39e6b965f1aa6c565737f58e19a560a...  \n",
       "36079305  433b0e71df1fe9a8d1f45647545701f6108414c40eef76...  \n",
       "36079306  fb12a2500433a3ef2f92eae62941ce6b2db8616ce6c992...  \n",
       "\n",
       "[36079307 rows x 6 columns]"
      ]
     },
     "execution_count": 5,
     "metadata": {},
     "output_type": "execute_result"
    }
   ],
   "source": [
    "train_browsing_df"
   ]
  },
  {
   "cell_type": "code",
   "execution_count": 88,
   "id": "6833dc99-8c16-4860-be95-274d52da4416",
   "metadata": {},
   "outputs": [
    {
     "data": {
      "text/plain": [
       "event_type\n",
       "pageview         25647696\n",
       "event_product    10431611\n",
       "Name: count, dtype: int64"
      ]
     },
     "execution_count": 88,
     "metadata": {},
     "output_type": "execute_result"
    }
   ],
   "source": [
    "# Fréquence des types d'événements.\n",
    "train_browsing_df['event_type'].value_counts()"
   ]
  },
  {
   "cell_type": "code",
   "execution_count": 89,
   "id": "8c017c77-89fd-4d47-95cd-ec818022f09c",
   "metadata": {},
   "outputs": [
    {
     "data": {
      "text/plain": [
       "product_action\n",
       "detail      9707890\n",
       "add          329557\n",
       "remove       316316\n",
       "purchase      77848\n",
       "Name: count, dtype: int64"
      ]
     },
     "execution_count": 89,
     "metadata": {},
     "output_type": "execute_result"
    }
   ],
   "source": [
    "# Fréquence des actions sur les produits.\n",
    "train_browsing_df['product_action'].value_counts()"
   ]
  },
  {
   "cell_type": "markdown",
   "id": "8a44bfed-b720-408d-99df-375b9539c08d",
   "metadata": {},
   "source": [
    "### Search Events\n",
    "\n",
    "Le fichier `search_train.csv` contient plus de 800 000 interactions basées sur la recherche. Chaque ligne est un événement de requête de recherche effectué par un acheteur, qui comprend un ensemble de résultats (hachés) renvoyés au client. Nous indiquons également quel(s) résultat(s) ont été cliqués dans l'ensemble des résultats, le cas échéant.\n",
    "En signalant également les produits vus mais non cliqués, nous espérons inspirer des moyens astucieux d'utiliser les retours négatifs.\n",
    "\n",
    "Champ | Type | Description\n",
    "------------ | ------------- | -------------\n",
    "session_id_hash | chaîne de caractères | Identifiant haché de la session d'achat. Une session regroupe des événements qui sont au maximum à 30 minutes d'intervalle : si le même utilisateur revient sur le site cible après 31 minutes depuis la dernière interaction, un nouvel identifiant de session est attribué.\n",
    "server_timestamp_epoch_ms | entier | Heure d'époque, en millisecondes. En tant que technique d'anonymisation supplémentaire, l'horodatage a été décalé d'un nombre non spécifié de semaines, tout en préservant les modèles intra-semaine.\n",
    "query_vector | vecteur | Une représentation dense de la requête de recherche, obtenue grâce à des techniques standard de modélisation pré-entraînée et de réduction de dimensionnalité.\n",
    "product_skus_hash | liste | Identifiants hachés des produits dans la réponse de recherche.\n",
    "clicked_skus_hash | liste | Identifiants hachés des produits sur lesquels on a cliqué après avoir émis la requête de recherche.\n",
    "\n"
   ]
  },
  {
   "cell_type": "code",
   "execution_count": 90,
   "id": "076c512a-2344-4ed3-9ccf-4fdd03cdd8cf",
   "metadata": {},
   "outputs": [
    {
     "name": "stdout",
     "output_type": "stream",
     "text": [
      "<class 'pandas.core.frame.DataFrame'>\n",
      "RangeIndex: 819516 entries, 0 to 819515\n",
      "Data columns (total 5 columns):\n",
      " #   Column                     Non-Null Count   Dtype \n",
      "---  ------                     --------------   ----- \n",
      " 0   session_id_hash            819516 non-null  object\n",
      " 1   query_vector               819516 non-null  object\n",
      " 2   clicked_skus_hash          179495 non-null  object\n",
      " 3   product_skus_hash          602754 non-null  object\n",
      " 4   server_timestamp_epoch_ms  819516 non-null  int64 \n",
      "dtypes: int64(1), object(4)\n",
      "memory usage: 31.3+ MB\n"
     ]
    }
   ],
   "source": [
    "train_search_df = pd.read_csv(os.path.join(PATH, 'train/search_train.csv'))\n",
    "train_search_df.info()"
   ]
  },
  {
   "cell_type": "code",
   "execution_count": 93,
   "id": "308201cf-6100-4806-a404-ff5ed7d6776f",
   "metadata": {},
   "outputs": [
    {
     "data": {
      "text/html": [
       "<div>\n",
       "<style scoped>\n",
       "    .dataframe tbody tr th:only-of-type {\n",
       "        vertical-align: middle;\n",
       "    }\n",
       "\n",
       "    .dataframe tbody tr th {\n",
       "        vertical-align: top;\n",
       "    }\n",
       "\n",
       "    .dataframe thead th {\n",
       "        text-align: right;\n",
       "    }\n",
       "</style>\n",
       "<table border=\"1\" class=\"dataframe\">\n",
       "  <thead>\n",
       "    <tr style=\"text-align: right;\">\n",
       "      <th></th>\n",
       "      <th>session_id_hash</th>\n",
       "      <th>query_vector</th>\n",
       "      <th>clicked_skus_hash</th>\n",
       "      <th>product_skus_hash</th>\n",
       "      <th>server_timestamp_epoch_ms</th>\n",
       "    </tr>\n",
       "  </thead>\n",
       "  <tbody>\n",
       "    <tr>\n",
       "      <th>0</th>\n",
       "      <td>48fade624d47870058ce07dd789ccc04e46c70c0fa2a1b...</td>\n",
       "      <td>[-0.20255649089813232, -0.016908567398786545, ...</td>\n",
       "      <td>NaN</td>\n",
       "      <td>NaN</td>\n",
       "      <td>1548575194779</td>\n",
       "    </tr>\n",
       "    <tr>\n",
       "      <th>1</th>\n",
       "      <td>8731ca84ff7bb8cb647531d54e64feedb2519b4a7792a7...</td>\n",
       "      <td>[-0.007610442116856575, -0.14909175038337708, ...</td>\n",
       "      <td>NaN</td>\n",
       "      <td>['9ee9ffd7e2529a65f9a0b0c9eaae6330df85cf2e3af3...</td>\n",
       "      <td>1548276763869</td>\n",
       "    </tr>\n",
       "    <tr>\n",
       "      <th>2</th>\n",
       "      <td>9be980708345944960645d03606ea83b637cae9106b705...</td>\n",
       "      <td>[-0.20023074746131897, -0.03151938319206238, 0...</td>\n",
       "      <td>NaN</td>\n",
       "      <td>['7cc72dbed53bab78ec6a62feaa5052a7a1db7d201664...</td>\n",
       "      <td>1548937997295</td>\n",
       "    </tr>\n",
       "    <tr>\n",
       "      <th>3</th>\n",
       "      <td>9be980708345944960645d03606ea83b637cae9106b705...</td>\n",
       "      <td>[-0.18556387722492218, -0.07620412111282349, 0...</td>\n",
       "      <td>NaN</td>\n",
       "      <td>['62c4ddab6c1c81c74d315376b3c0dc7768c0286b3dc6...</td>\n",
       "      <td>1548938038268</td>\n",
       "    </tr>\n",
       "    <tr>\n",
       "      <th>4</th>\n",
       "      <td>9be980708345944960645d03606ea83b637cae9106b705...</td>\n",
       "      <td>[-0.03269264101982117, -0.27234694361686707, 0...</td>\n",
       "      <td>NaN</td>\n",
       "      <td>['2a0ee2924feabeec35e21e8fcb4d5b0684d190e46cef...</td>\n",
       "      <td>1548938093827</td>\n",
       "    </tr>\n",
       "    <tr>\n",
       "      <th>...</th>\n",
       "      <td>...</td>\n",
       "      <td>...</td>\n",
       "      <td>...</td>\n",
       "      <td>...</td>\n",
       "      <td>...</td>\n",
       "    </tr>\n",
       "    <tr>\n",
       "      <th>819511</th>\n",
       "      <td>9b037012702a2dadee910c6b71b691b6ba072b22f41b7b...</td>\n",
       "      <td>[-0.04411918669939041, -0.15845978260040283, -...</td>\n",
       "      <td>['f023b48bf46355aa4844b8c9bd51e478a22f17b9be83...</td>\n",
       "      <td>['12db169815cb93aaeeb1d427d6c0eea62ba4961e43c4...</td>\n",
       "      <td>1548987598321</td>\n",
       "    </tr>\n",
       "    <tr>\n",
       "      <th>819512</th>\n",
       "      <td>9b037012702a2dadee910c6b71b691b6ba072b22f41b7b...</td>\n",
       "      <td>[-0.033466748893260956, 0.06939797103404999, -...</td>\n",
       "      <td>['1379461daf84128449e010af5f2a0d37837bac53c854...</td>\n",
       "      <td>['956c335d2f59c1853f499420ae4e85250a6c7190a1df...</td>\n",
       "      <td>1548987688646</td>\n",
       "    </tr>\n",
       "    <tr>\n",
       "      <th>819513</th>\n",
       "      <td>fdf03b124f6cb368c42a9408bc1186e4ea1465cacd5855...</td>\n",
       "      <td>[-0.04076826199889183, -0.3194904327392578, 0....</td>\n",
       "      <td>NaN</td>\n",
       "      <td>NaN</td>\n",
       "      <td>1548554188376</td>\n",
       "    </tr>\n",
       "    <tr>\n",
       "      <th>819514</th>\n",
       "      <td>fdf03b124f6cb368c42a9408bc1186e4ea1465cacd5855...</td>\n",
       "      <td>[0.0175111535936594, -0.2686958312988281, 0.07...</td>\n",
       "      <td>NaN</td>\n",
       "      <td>['32ead81a7b89168dc472d162a3d7654db02d99bb88b3...</td>\n",
       "      <td>1548554908239</td>\n",
       "    </tr>\n",
       "    <tr>\n",
       "      <th>819515</th>\n",
       "      <td>fdf03b124f6cb368c42a9408bc1186e4ea1465cacd5855...</td>\n",
       "      <td>[0.007162265479564667, -0.24418511986732483, 0...</td>\n",
       "      <td>NaN</td>\n",
       "      <td>['05ad56d73cded3e417965b566d3291dc70e8fe3070ec...</td>\n",
       "      <td>1548555018635</td>\n",
       "    </tr>\n",
       "  </tbody>\n",
       "</table>\n",
       "<p>819516 rows × 5 columns</p>\n",
       "</div>"
      ],
      "text/plain": [
       "                                          session_id_hash  \\\n",
       "0       48fade624d47870058ce07dd789ccc04e46c70c0fa2a1b...   \n",
       "1       8731ca84ff7bb8cb647531d54e64feedb2519b4a7792a7...   \n",
       "2       9be980708345944960645d03606ea83b637cae9106b705...   \n",
       "3       9be980708345944960645d03606ea83b637cae9106b705...   \n",
       "4       9be980708345944960645d03606ea83b637cae9106b705...   \n",
       "...                                                   ...   \n",
       "819511  9b037012702a2dadee910c6b71b691b6ba072b22f41b7b...   \n",
       "819512  9b037012702a2dadee910c6b71b691b6ba072b22f41b7b...   \n",
       "819513  fdf03b124f6cb368c42a9408bc1186e4ea1465cacd5855...   \n",
       "819514  fdf03b124f6cb368c42a9408bc1186e4ea1465cacd5855...   \n",
       "819515  fdf03b124f6cb368c42a9408bc1186e4ea1465cacd5855...   \n",
       "\n",
       "                                             query_vector  \\\n",
       "0       [-0.20255649089813232, -0.016908567398786545, ...   \n",
       "1       [-0.007610442116856575, -0.14909175038337708, ...   \n",
       "2       [-0.20023074746131897, -0.03151938319206238, 0...   \n",
       "3       [-0.18556387722492218, -0.07620412111282349, 0...   \n",
       "4       [-0.03269264101982117, -0.27234694361686707, 0...   \n",
       "...                                                   ...   \n",
       "819511  [-0.04411918669939041, -0.15845978260040283, -...   \n",
       "819512  [-0.033466748893260956, 0.06939797103404999, -...   \n",
       "819513  [-0.04076826199889183, -0.3194904327392578, 0....   \n",
       "819514  [0.0175111535936594, -0.2686958312988281, 0.07...   \n",
       "819515  [0.007162265479564667, -0.24418511986732483, 0...   \n",
       "\n",
       "                                        clicked_skus_hash  \\\n",
       "0                                                     NaN   \n",
       "1                                                     NaN   \n",
       "2                                                     NaN   \n",
       "3                                                     NaN   \n",
       "4                                                     NaN   \n",
       "...                                                   ...   \n",
       "819511  ['f023b48bf46355aa4844b8c9bd51e478a22f17b9be83...   \n",
       "819512  ['1379461daf84128449e010af5f2a0d37837bac53c854...   \n",
       "819513                                                NaN   \n",
       "819514                                                NaN   \n",
       "819515                                                NaN   \n",
       "\n",
       "                                        product_skus_hash  \\\n",
       "0                                                     NaN   \n",
       "1       ['9ee9ffd7e2529a65f9a0b0c9eaae6330df85cf2e3af3...   \n",
       "2       ['7cc72dbed53bab78ec6a62feaa5052a7a1db7d201664...   \n",
       "3       ['62c4ddab6c1c81c74d315376b3c0dc7768c0286b3dc6...   \n",
       "4       ['2a0ee2924feabeec35e21e8fcb4d5b0684d190e46cef...   \n",
       "...                                                   ...   \n",
       "819511  ['12db169815cb93aaeeb1d427d6c0eea62ba4961e43c4...   \n",
       "819512  ['956c335d2f59c1853f499420ae4e85250a6c7190a1df...   \n",
       "819513                                                NaN   \n",
       "819514  ['32ead81a7b89168dc472d162a3d7654db02d99bb88b3...   \n",
       "819515  ['05ad56d73cded3e417965b566d3291dc70e8fe3070ec...   \n",
       "\n",
       "        server_timestamp_epoch_ms  \n",
       "0                   1548575194779  \n",
       "1                   1548276763869  \n",
       "2                   1548937997295  \n",
       "3                   1548938038268  \n",
       "4                   1548938093827  \n",
       "...                           ...  \n",
       "819511              1548987598321  \n",
       "819512              1548987688646  \n",
       "819513              1548554188376  \n",
       "819514              1548554908239  \n",
       "819515              1548555018635  \n",
       "\n",
       "[819516 rows x 5 columns]"
      ]
     },
     "execution_count": 93,
     "metadata": {},
     "output_type": "execute_result"
    }
   ],
   "source": [
    "train_search_df"
   ]
  },
  {
   "cell_type": "code",
   "execution_count": 6,
   "id": "3be94fe9-721e-4fc1-997e-340fa6a9db60",
   "metadata": {},
   "outputs": [
    {
     "data": {
      "text/plain": [
       "min    1547528564513\n",
       "max    1555300798560\n",
       "Name: server_timestamp_epoch_ms, dtype: int64"
      ]
     },
     "execution_count": 6,
     "metadata": {},
     "output_type": "execute_result"
    }
   ],
   "source": [
    "# Timestamp minimum et maximum.\n",
    "train_browsing_df['server_timestamp_epoch_ms'].agg(['min', 'max'])"
   ]
  },
  {
   "cell_type": "code",
   "execution_count": 91,
   "id": "bfe1792b-0c8a-4c7d-a8d8-ca331fe57697",
   "metadata": {},
   "outputs": [
    {
     "data": {
      "text/plain": [
       "73311"
      ]
     },
     "execution_count": 91,
     "metadata": {},
     "output_type": "execute_result"
    }
   ],
   "source": [
    "# Nombre de produits pour lesquels on a au moins un clique.\n",
    "train_search_items_clicked = train_search_df[~train_search_df['clicked_skus_hash'].isna()]['clicked_skus_hash'].explode().unique()\n",
    "len(train_search_items_clicked)"
   ]
  },
  {
   "cell_type": "code",
   "execution_count": 97,
   "id": "daa642a4-1460-45cf-96eb-ff42d32e6d25",
   "metadata": {},
   "outputs": [
    {
     "name": "stdout",
     "output_type": "stream",
     "text": [
      "           c\n",
      "0  [1, 2, 3]\n",
      "1  [2, 3, 4]\n",
      "2  [5, 6, 7]\n",
      "0    1\n",
      "0    2\n",
      "0    3\n",
      "1    2\n",
      "1    3\n",
      "1    4\n",
      "2    5\n",
      "2    6\n",
      "2    7\n",
      "Name: c, dtype: object\n",
      "[1 2 3 4 5 6 7]\n"
     ]
    }
   ],
   "source": [
    "# Test pour voir ce que fait explode().unique()\n",
    "c = [[1, 2, 3], [2, 3, 4], [5, 6, 7]]\n",
    "df = pd.DataFrame({'c': c})\n",
    "print(df)\n",
    "print(df['c'].explode())\n",
    "print(df['c'].explode().unique())"
   ]
  },
  {
   "cell_type": "markdown",
   "id": "d5c1d728-1ce1-4193-a70f-18e11a03a932",
   "metadata": {},
   "source": [
    "### Catalog Metadata\n",
    "\n",
    "Le fichier `sku_to_content.csv` contient une correspondance entre les identifiants de produit (SKU) hachés et la représentation dense\n",
    "des métadonnées textuelles et d'image du catalogue réel, pour tous les SKU dans l'ensemble d'entraînement et l'ensemble d'évaluation du Challenge\n",
    "(lorsque l'information est disponible).\n",
    "\n",
    "Champ | Type | Description\n",
    "------------ | ------------- | -------------\n",
    "product_sku_hash | chaîne de caractères | Identifiant haché du produit (SKU).\n",
    "category_hash | chaîne de caractères | Les catégories sont des représentations hachées de la hiérarchie des catégories, séparées par un `/`.\n",
    "price_bucket | entier | Le prix du produit, fourni sous forme d'entier quantile à 10 niveaux.\n",
    "description_vector | vecteur | Une représentation dense des métadonnées textuelles, obtenue grâce à des techniques standard de modélisation pré-entraînée et de réduction de la dimensionalité. Veuillez noter que cette représentation est compatible avec celle dans le fichier de recherche.\n",
    "image_vector| vecteur | Une représentation dense des métadonnées d'image, obtenue grâce à des techniques standard de modélisation pré-entraînée et de réduction de la dimensionalité.\n"
   ]
  },
  {
   "cell_type": "code",
   "execution_count": 92,
   "id": "43d18995-5627-4932-8c16-ab3c2656e15d",
   "metadata": {},
   "outputs": [
    {
     "name": "stdout",
     "output_type": "stream",
     "text": [
      "<class 'pandas.core.frame.DataFrame'>\n",
      "RangeIndex: 66386 entries, 0 to 66385\n",
      "Data columns (total 5 columns):\n",
      " #   Column              Non-Null Count  Dtype  \n",
      "---  ------              --------------  -----  \n",
      " 0   product_sku_hash    66386 non-null  object \n",
      " 1   description_vector  31950 non-null  object \n",
      " 2   category_hash       32052 non-null  object \n",
      " 3   image_vector        28370 non-null  object \n",
      " 4   price_bucket        32038 non-null  float64\n",
      "dtypes: float64(1), object(4)\n",
      "memory usage: 2.5+ MB\n"
     ]
    }
   ],
   "source": [
    "# train_sku_to_content_df = pd.read_csv(os.path.join(PATH, 'train/sku_to_content.csv'))\n",
    "train_sku_to_content_df.info()"
   ]
  },
  {
   "cell_type": "code",
   "execution_count": 116,
   "id": "3eff937a-751e-4f1a-aa9e-fdde56877903",
   "metadata": {},
   "outputs": [
    {
     "data": {
      "text/html": [
       "<div>\n",
       "<style scoped>\n",
       "    .dataframe tbody tr th:only-of-type {\n",
       "        vertical-align: middle;\n",
       "    }\n",
       "\n",
       "    .dataframe tbody tr th {\n",
       "        vertical-align: top;\n",
       "    }\n",
       "\n",
       "    .dataframe thead th {\n",
       "        text-align: right;\n",
       "    }\n",
       "</style>\n",
       "<table border=\"1\" class=\"dataframe\">\n",
       "  <thead>\n",
       "    <tr style=\"text-align: right;\">\n",
       "      <th></th>\n",
       "      <th>product_sku_hash</th>\n",
       "      <th>description_vector</th>\n",
       "      <th>category_hash</th>\n",
       "      <th>image_vector</th>\n",
       "      <th>price_bucket</th>\n",
       "    </tr>\n",
       "  </thead>\n",
       "  <tbody>\n",
       "    <tr>\n",
       "      <th>0</th>\n",
       "      <td>26ce7b47f4c46e4087e83e54d2f7ddc7ea57862fed2e2a...</td>\n",
       "      <td>NaN</td>\n",
       "      <td>NaN</td>\n",
       "      <td>NaN</td>\n",
       "      <td>NaN</td>\n",
       "    </tr>\n",
       "    <tr>\n",
       "      <th>1</th>\n",
       "      <td>6383992be772b204a9ab75f86c86f5583d1bdd1222952d...</td>\n",
       "      <td>NaN</td>\n",
       "      <td>NaN</td>\n",
       "      <td>NaN</td>\n",
       "      <td>NaN</td>\n",
       "    </tr>\n",
       "    <tr>\n",
       "      <th>2</th>\n",
       "      <td>a2c3e2430c6ef9770b903ad08fa067a6b2b9db28f06e1b...</td>\n",
       "      <td>[0.27629122138023376, -0.15763211250305176, 0....</td>\n",
       "      <td>06fa312761d4b39e2f649781514ac69a4c1505c221fc46...</td>\n",
       "      <td>[340.3592564184389, -220.19025864725685, 154.0...</td>\n",
       "      <td>7.0</td>\n",
       "    </tr>\n",
       "    <tr>\n",
       "      <th>3</th>\n",
       "      <td>1028ef615e425c328e7b95010dfb1fb93cf63749a1bc80...</td>\n",
       "      <td>[0.4058118760585785, -0.03595402091741562, 0.2...</td>\n",
       "      <td>115a6a7017ee55752b8487c77dfde92b0d501d10a2e69c...</td>\n",
       "      <td>[180.3463662921092, 222.702322343354, -8.88703...</td>\n",
       "      <td>8.0</td>\n",
       "    </tr>\n",
       "    <tr>\n",
       "      <th>4</th>\n",
       "      <td>9870c682d0d52d635501249da0eeaa118fad430b695ea1...</td>\n",
       "      <td>[-0.3206155300140381, 0.01991105079650879, 0.0...</td>\n",
       "      <td>0665a81d19c89281cc00e7f7d779ded2ed42c933838602...</td>\n",
       "      <td>[-114.81079301576219, 84.55770104232334, 85.51...</td>\n",
       "      <td>2.0</td>\n",
       "    </tr>\n",
       "    <tr>\n",
       "      <th>...</th>\n",
       "      <td>...</td>\n",
       "      <td>...</td>\n",
       "      <td>...</td>\n",
       "      <td>...</td>\n",
       "      <td>...</td>\n",
       "    </tr>\n",
       "    <tr>\n",
       "      <th>66381</th>\n",
       "      <td>c7cc673ca3baa5fa222fffdc16379892b3a62583a48143...</td>\n",
       "      <td>NaN</td>\n",
       "      <td>NaN</td>\n",
       "      <td>NaN</td>\n",
       "      <td>NaN</td>\n",
       "    </tr>\n",
       "    <tr>\n",
       "      <th>66382</th>\n",
       "      <td>6641c7d2053ce48ce1e81a9653dffe56dbb79ab0704fbd...</td>\n",
       "      <td>[-0.19150441884994507, -0.06235162168741226, -...</td>\n",
       "      <td>0665a81d19c89281cc00e7f7d779ded2ed42c933838602...</td>\n",
       "      <td>[129.55668732976045, 43.27996741934932, -36.70...</td>\n",
       "      <td>3.0</td>\n",
       "    </tr>\n",
       "    <tr>\n",
       "      <th>66383</th>\n",
       "      <td>526a6a51717d5bb40ef2b0c47394d08c54385375633bab...</td>\n",
       "      <td>[-0.19760936498641968, 0.4446450471878052, -0....</td>\n",
       "      <td>0665a81d19c89281cc00e7f7d779ded2ed42c933838602...</td>\n",
       "      <td>[-158.25984189321855, 74.19255741438077, 199.6...</td>\n",
       "      <td>5.0</td>\n",
       "    </tr>\n",
       "    <tr>\n",
       "      <th>66384</th>\n",
       "      <td>21ca4ab0e2fbd3b401fbeadeb4439dcab9998fb52159ec...</td>\n",
       "      <td>NaN</td>\n",
       "      <td>NaN</td>\n",
       "      <td>NaN</td>\n",
       "      <td>NaN</td>\n",
       "    </tr>\n",
       "    <tr>\n",
       "      <th>66385</th>\n",
       "      <td>0eaa39fb645749da181c0637d3b420f3f103b5f6b50286...</td>\n",
       "      <td>NaN</td>\n",
       "      <td>NaN</td>\n",
       "      <td>NaN</td>\n",
       "      <td>NaN</td>\n",
       "    </tr>\n",
       "  </tbody>\n",
       "</table>\n",
       "<p>66386 rows × 5 columns</p>\n",
       "</div>"
      ],
      "text/plain": [
       "                                        product_sku_hash  \\\n",
       "0      26ce7b47f4c46e4087e83e54d2f7ddc7ea57862fed2e2a...   \n",
       "1      6383992be772b204a9ab75f86c86f5583d1bdd1222952d...   \n",
       "2      a2c3e2430c6ef9770b903ad08fa067a6b2b9db28f06e1b...   \n",
       "3      1028ef615e425c328e7b95010dfb1fb93cf63749a1bc80...   \n",
       "4      9870c682d0d52d635501249da0eeaa118fad430b695ea1...   \n",
       "...                                                  ...   \n",
       "66381  c7cc673ca3baa5fa222fffdc16379892b3a62583a48143...   \n",
       "66382  6641c7d2053ce48ce1e81a9653dffe56dbb79ab0704fbd...   \n",
       "66383  526a6a51717d5bb40ef2b0c47394d08c54385375633bab...   \n",
       "66384  21ca4ab0e2fbd3b401fbeadeb4439dcab9998fb52159ec...   \n",
       "66385  0eaa39fb645749da181c0637d3b420f3f103b5f6b50286...   \n",
       "\n",
       "                                      description_vector  \\\n",
       "0                                                    NaN   \n",
       "1                                                    NaN   \n",
       "2      [0.27629122138023376, -0.15763211250305176, 0....   \n",
       "3      [0.4058118760585785, -0.03595402091741562, 0.2...   \n",
       "4      [-0.3206155300140381, 0.01991105079650879, 0.0...   \n",
       "...                                                  ...   \n",
       "66381                                                NaN   \n",
       "66382  [-0.19150441884994507, -0.06235162168741226, -...   \n",
       "66383  [-0.19760936498641968, 0.4446450471878052, -0....   \n",
       "66384                                                NaN   \n",
       "66385                                                NaN   \n",
       "\n",
       "                                           category_hash  \\\n",
       "0                                                    NaN   \n",
       "1                                                    NaN   \n",
       "2      06fa312761d4b39e2f649781514ac69a4c1505c221fc46...   \n",
       "3      115a6a7017ee55752b8487c77dfde92b0d501d10a2e69c...   \n",
       "4      0665a81d19c89281cc00e7f7d779ded2ed42c933838602...   \n",
       "...                                                  ...   \n",
       "66381                                                NaN   \n",
       "66382  0665a81d19c89281cc00e7f7d779ded2ed42c933838602...   \n",
       "66383  0665a81d19c89281cc00e7f7d779ded2ed42c933838602...   \n",
       "66384                                                NaN   \n",
       "66385                                                NaN   \n",
       "\n",
       "                                            image_vector  price_bucket  \n",
       "0                                                    NaN           NaN  \n",
       "1                                                    NaN           NaN  \n",
       "2      [340.3592564184389, -220.19025864725685, 154.0...           7.0  \n",
       "3      [180.3463662921092, 222.702322343354, -8.88703...           8.0  \n",
       "4      [-114.81079301576219, 84.55770104232334, 85.51...           2.0  \n",
       "...                                                  ...           ...  \n",
       "66381                                                NaN           NaN  \n",
       "66382  [129.55668732976045, 43.27996741934932, -36.70...           3.0  \n",
       "66383  [-158.25984189321855, 74.19255741438077, 199.6...           5.0  \n",
       "66384                                                NaN           NaN  \n",
       "66385                                                NaN           NaN  \n",
       "\n",
       "[66386 rows x 5 columns]"
      ]
     },
     "execution_count": 116,
     "metadata": {},
     "output_type": "execute_result"
    }
   ],
   "source": [
    "train_sku_to_content_df"
   ]
  },
  {
   "cell_type": "markdown",
   "id": "5a8e0acc-b427-43f4-8349-21ab4ed337f8",
   "metadata": {},
   "source": [
    "**NOTE** : Bizarrement, nous avons moins de produits (66386) que le nombre de produits différents pour lesquels nous avons au moins un clique (73311)."
   ]
  },
  {
   "cell_type": "markdown",
   "id": "d31d2407-3310-4073-b1d3-04ec1a489074",
   "metadata": {},
   "source": [
    "## Test set"
   ]
  },
  {
   "cell_type": "code",
   "execution_count": 10,
   "id": "021e695b-3ca7-48c9-a447-2b6f903d0816",
   "metadata": {},
   "outputs": [
    {
     "name": "stdout",
     "output_type": "stream",
     "text": [
      "59\n"
     ]
    }
   ],
   "source": [
    "import json \n",
    "\n",
    "with open(os.path.join(PATH, 'baselines/session_rec_sigir_data/test/rec_test_sample.json')) as json_file:\n",
    "    test_queries = json.load(json_file)\n",
    "    testset_recommendation_df = pd.json_normalize(test_queries, 'query')\n",
    "    print(len(testset_recommendation_df))"
   ]
  },
  {
   "cell_type": "markdown",
   "id": "7fc69722-5bab-4643-8a63-910e5e9223f3",
   "metadata": {},
   "source": [
    "**NOTE** : Pas le même fichier json que NVIDIA. J'obtiens 59 lignes tandis que le fichier de NVIDIA a 576435 lignes. Voir https://github.com/NVIDIA-Merlin/competitions/blob/main/SIGIR_eCommerce_Challenge_2021/task1_session_based_rec/0-eda/EDA_train_x_test_set.ipynb\n",
    "\n",
    "**NOTE**: Finalement, le fichier `test/rec_test_phase_1.json` a été créé par l'équipe NVIDIA. L'énoncé de la compétition ne parle pas de données test. Va falloir créer notre fichier test à partir des ensembles de données..."
   ]
  },
  {
   "cell_type": "markdown",
   "id": "8a8f43d5-01da-4710-8717-7eb18cbdd4f2",
   "metadata": {},
   "source": [
    "## Analyzing train data\n",
    "\n",
    "Le code de cette section provient principalement de NVIDIA. Voir https://github.com/NVIDIA-Merlin/competitions/blob/main/SIGIR_eCommerce_Challenge_2021/task1_session_based_rec/0-eda/EDA_train_x_test_set.ipynb."
   ]
  },
  {
   "cell_type": "markdown",
   "id": "730dd633-b0b2-42cb-b375-4c2c3c5c00aa",
   "metadata": {},
   "source": [
    "### Items"
   ]
  },
  {
   "cell_type": "code",
   "execution_count": 98,
   "id": "27692eb1-d950-4341-a12c-6f62a91905fb",
   "metadata": {},
   "outputs": [
    {
     "data": {
      "text/plain": [
       "57484"
      ]
     },
     "execution_count": 98,
     "metadata": {},
     "output_type": "execute_result"
    }
   ],
   "source": [
    "train_browsing_items = train_browsing_df['product_sku_hash'].unique()\n",
    "len(train_browsing_items)"
   ]
  },
  {
   "cell_type": "code",
   "execution_count": 100,
   "id": "e544f72c-94b5-4d81-bdcc-2960d8ababe7",
   "metadata": {},
   "outputs": [
    {
     "data": {
      "text/plain": [
       "189796"
      ]
     },
     "execution_count": 100,
     "metadata": {},
     "output_type": "execute_result"
    }
   ],
   "source": [
    "# Avant transformation des colonnes.\n",
    "train_search_items = train_search_df[~train_search_df['product_skus_hash'].isna()]['product_skus_hash'].explode().unique()\n",
    "len(train_search_items)"
   ]
  },
  {
   "cell_type": "code",
   "execution_count": 114,
   "id": "3e32b832-42e2-41eb-8210-7e095c34c50b",
   "metadata": {},
   "outputs": [],
   "source": [
    "import ast\n",
    "\n",
    "def convert_str_to_list(x): \n",
    "    if pd.isnull(x): \n",
    "        return x\n",
    "    return ast.literal_eval(x)"
   ]
  },
  {
   "cell_type": "code",
   "execution_count": 115,
   "id": "21eb0135-3503-483e-abd5-ed58f7a01ee8",
   "metadata": {},
   "outputs": [
    {
     "name": "stdout",
     "output_type": "stream",
     "text": [
      "Avant la conversion :\n",
      "                 c\n",
      "0  ['1', '2', '3']\n",
      "1             None\n",
      "2  ['5', '6', '7']\n",
      "\n",
      "Après la conversion :\n",
      "           c\n",
      "0  [1, 2, 3]\n",
      "1       None\n",
      "2  [5, 6, 7]\n"
     ]
    }
   ],
   "source": [
    "# Test pour comprendre ce que fait ast.literal_eval(x):\n",
    "c = [\"['1', '2', '3']\", None, \"['5', '6', '7']\"]  # des chaînes représentant des listes\n",
    "df = pd.DataFrame({'c': c})\n",
    "\n",
    "print(\"Avant la conversion :\")\n",
    "print(df)\n",
    "\n",
    "for col in ['c']: \n",
    "    df[col] = df[col].apply(lambda x: convert_str_to_list(x))\n",
    "\n",
    "print(\"\\nAprès la conversion :\")\n",
    "print(df)"
   ]
  },
  {
   "cell_type": "code",
   "execution_count": 102,
   "id": "183387b5-d9d6-4fa3-ad98-e00e2bef29f3",
   "metadata": {},
   "outputs": [],
   "source": [
    "for col in ['product_skus_hash', 'clicked_skus_hash', 'query_vector']: \n",
    "    train_search_df[col] = train_search_df[col].apply(convert_str_to_list)"
   ]
  },
  {
   "cell_type": "code",
   "execution_count": 103,
   "id": "3871b256-3015-4879-9442-9e4ef76db80d",
   "metadata": {},
   "outputs": [
    {
     "data": {
      "text/plain": [
       "30399"
      ]
     },
     "execution_count": 103,
     "metadata": {},
     "output_type": "execute_result"
    }
   ],
   "source": [
    "# Après transformation des colonnes.\n",
    "train_search_items = train_search_df[~train_search_df['product_skus_hash'].isna()]['product_skus_hash'].explode().unique()\n",
    "len(train_search_items)"
   ]
  },
  {
   "cell_type": "markdown",
   "id": "7cca4730-caf9-4229-a591-8d4309c6f8e6",
   "metadata": {},
   "source": [
    "**NOTE** : Différence ici. J'obtiens 30399 tandis que NVIDIA obtiens 189796. Voir https://github.com/NVIDIA-Merlin/competitions/blob/main/SIGIR_eCommerce_Challenge_2021/task1_session_based_rec/0-eda/EDA_train_x_test_set.ipynb"
   ]
  },
  {
   "cell_type": "code",
   "execution_count": 15,
   "id": "6eaec8b6-57b0-4deb-b022-b848b6aeb34a",
   "metadata": {},
   "outputs": [
    {
     "data": {
      "text/plain": [
       "66386"
      ]
     },
     "execution_count": 15,
     "metadata": {},
     "output_type": "execute_result"
    }
   ],
   "source": [
    "content_items = train_sku_to_content_df['product_sku_hash'].unique()\n",
    "len(content_items)"
   ]
  },
  {
   "cell_type": "code",
   "execution_count": 16,
   "id": "63e3c80d-a99f-4183-8f11-40acc185a647",
   "metadata": {},
   "outputs": [
    {
     "data": {
      "text/plain": [
       "28182"
      ]
     },
     "execution_count": 16,
     "metadata": {},
     "output_type": "execute_result"
    }
   ],
   "source": [
    "len(set(train_browsing_items).difference(set(train_search_items)))"
   ]
  },
  {
   "cell_type": "code",
   "execution_count": 17,
   "id": "24e8727d-3e68-4649-a6e6-0221ac1ca73e",
   "metadata": {},
   "outputs": [
    {
     "data": {
      "text/plain": [
       "1097"
      ]
     },
     "execution_count": 17,
     "metadata": {},
     "output_type": "execute_result"
    }
   ],
   "source": [
    "len(set(train_search_items).difference(set(train_browsing_items)))"
   ]
  },
  {
   "cell_type": "code",
   "execution_count": 18,
   "id": "ba90d9a1-ff2f-457b-a58e-055eb52f1916",
   "metadata": {},
   "outputs": [
    {
     "data": {
      "text/plain": [
       "73311"
      ]
     },
     "execution_count": 18,
     "metadata": {},
     "output_type": "execute_result"
    }
   ],
   "source": [
    "len(set(train_search_items_clicked).difference(set(train_browsing_items)))"
   ]
  },
  {
   "cell_type": "markdown",
   "id": "b1e28e00-dc49-4fe0-ab1b-9bbddd24ea0b",
   "metadata": {},
   "source": [
    "**NOTE** : Grosse différence ici. J'obtiens 73311 tandis que NVIDIA obtiens 100. Dans un Jupyter notebook, on n'est jamais certain quelles cellules ont été exécutées avant... Cet écart provient sûrement de cela."
   ]
  },
  {
   "cell_type": "markdown",
   "id": "bb9e8218-c780-4698-adce-b78724d4c1ff",
   "metadata": {},
   "source": [
    "### Sessions"
   ]
  },
  {
   "cell_type": "code",
   "execution_count": 19,
   "id": "c314306d-d192-4645-8847-8e4fe4b3af6c",
   "metadata": {},
   "outputs": [
    {
     "data": {
      "text/plain": [
       "4934699"
      ]
     },
     "execution_count": 19,
     "metadata": {},
     "output_type": "execute_result"
    }
   ],
   "source": [
    "train_browsing_df['session_id_hash'].nunique()"
   ]
  },
  {
   "cell_type": "code",
   "execution_count": 20,
   "id": "298628ff-c8b1-4ce2-afd1-a9d148120458",
   "metadata": {},
   "outputs": [
    {
     "data": {
      "text/plain": [
       "4460582"
      ]
     },
     "execution_count": 20,
     "metadata": {},
     "output_type": "execute_result"
    }
   ],
   "source": [
    "len(set(train_browsing_df['session_id_hash'].unique()).difference(set(train_search_df['session_id_hash'].unique())))"
   ]
  },
  {
   "cell_type": "code",
   "execution_count": 21,
   "id": "f47d4860-3833-461b-8b66-d1e058f746b4",
   "metadata": {},
   "outputs": [
    {
     "data": {
      "text/plain": [
       "75983"
      ]
     },
     "execution_count": 21,
     "metadata": {},
     "output_type": "execute_result"
    }
   ],
   "source": [
    "len(set(train_search_df['session_id_hash'].unique()).difference(set(train_browsing_df['session_id_hash'].unique())))"
   ]
  },
  {
   "cell_type": "markdown",
   "id": "bebb0285-dd9e-490b-ad64-d253d4996c56",
   "metadata": {},
   "source": [
    "## Comparing train and test data\n",
    "\n",
    "See https://github.com/NVIDIA-Merlin/competitions/blob/main/SIGIR_eCommerce_Challenge_2021/task1_session_based_rec/0-eda/EDA_train_x_test_set.ipynb"
   ]
  },
  {
   "cell_type": "markdown",
   "id": "5baaddb9-27c8-4292-b718-5eeff512998b",
   "metadata": {},
   "source": [
    "**NOTE** : On ne peut pas réellement comparer puisque le fichier test `json` n'est pas comparable à celui de NVIDIA."
   ]
  },
  {
   "cell_type": "markdown",
   "id": "0f19a8eb-1913-4fa9-b1c8-e277de99c381",
   "metadata": {},
   "source": [
    "## Processing DATA with pandas\n",
    "\n",
    "Voir https://github.com/NVIDIA-Merlin/competitions/blob/main/SIGIR_eCommerce_Challenge_2021/task1_session_based_rec/1-preprocessing/ecom_preproc_step1.ipynb"
   ]
  },
  {
   "cell_type": "code",
   "execution_count": 22,
   "id": "0400a317-8d06-43f9-8ce2-ce854e4d018c",
   "metadata": {},
   "outputs": [],
   "source": [
    "import os"
   ]
  },
  {
   "cell_type": "code",
   "execution_count": 23,
   "id": "ba3c7f22-c797-4770-ba8e-4d41015fbe85",
   "metadata": {},
   "outputs": [
    {
     "name": "stdout",
     "output_type": "stream",
     "text": [
      "/Users/alain/data/SIGIR-ecom-data-challenge/train/browsing_train.csv\n"
     ]
    }
   ],
   "source": [
    "DATA_FOLDER = \"/Users/alain/data/SIGIR-ecom-data-challenge/train/\"\n",
    "FILENAME_PATTERN_BROWSING = 'browsing_train.csv'\n",
    "FILENAME_PATTERN_SEARCH = 'search_train.csv'\n",
    "FILENAME_PATTERN_SKU = 'sku_to_content.csv'\n",
    "DATA_PATH_BROWSING = os.path.join(DATA_FOLDER, FILENAME_PATTERN_BROWSING)\n",
    "DATA_PATH_SEARCH = os.path.join(DATA_FOLDER, FILENAME_PATTERN_SEARCH)\n",
    "DATA_PATH_SKU = os.path.join(DATA_FOLDER, FILENAME_PATTERN_SKU)\n",
    "OUTPUT_DIR = \"/Users/alain/data/workspace\"\n",
    "!ls $DATA_PATH_BROWSING"
   ]
  },
  {
   "cell_type": "code",
   "execution_count": 24,
   "id": "a46fa8f2-ec83-42f9-9d7f-4febd2209ded",
   "metadata": {},
   "outputs": [],
   "source": [
    "MINIMUM_SESSION_LENGTH = 2"
   ]
  },
  {
   "cell_type": "markdown",
   "id": "39a8b7ed-bdf4-4a66-99b0-2331a34bd5dc",
   "metadata": {},
   "source": [
    "### Proprocessing of search tables"
   ]
  },
  {
   "cell_type": "code",
   "execution_count": 85,
   "id": "0833ee51-f8e0-45ce-979d-eeaff27b8a8b",
   "metadata": {},
   "outputs": [
    {
     "name": "stdout",
     "output_type": "stream",
     "text": [
      "<class 'pandas.core.frame.DataFrame'>\n",
      "RangeIndex: 819516 entries, 0 to 819515\n",
      "Data columns (total 5 columns):\n",
      " #   Column                     Non-Null Count   Dtype \n",
      "---  ------                     --------------   ----- \n",
      " 0   session_id_hash            819516 non-null  object\n",
      " 1   query_vector               819516 non-null  object\n",
      " 2   clicked_skus_hash          179495 non-null  object\n",
      " 3   product_skus_hash          602754 non-null  object\n",
      " 4   server_timestamp_epoch_ms  819516 non-null  int64 \n",
      "dtypes: int64(1), object(4)\n",
      "memory usage: 31.3+ MB\n"
     ]
    }
   ],
   "source": [
    "# load search data\n",
    "search = pd.read_csv(DATA_PATH_SEARCH, sep=',')\n",
    "search.info()"
   ]
  },
  {
   "cell_type": "code",
   "execution_count": 73,
   "id": "514a5d0c-8204-499b-97d3-ff7c6634ee51",
   "metadata": {},
   "outputs": [
    {
     "data": {
      "text/plain": [
       "False    819393\n",
       "True        123\n",
       "Name: count, dtype: int64"
      ]
     },
     "execution_count": 73,
     "metadata": {},
     "output_type": "execute_result"
    }
   ],
   "source": [
    "# drop 123 rows where: (clicked_skus_hash != NaN) and (product_skus_hash == NaN)\n",
    "condition = (search['product_skus_hash'].isnull()) & (~search['clicked_skus_hash'].isnull())\n",
    "condition.value_counts()"
   ]
  },
  {
   "cell_type": "code",
   "execution_count": 86,
   "id": "d48edd94-b360-48cd-bbca-26b84d58f367",
   "metadata": {},
   "outputs": [
    {
     "name": "stderr",
     "output_type": "stream",
     "text": [
      "100%|██████████████████████████████| 819393/819393 [00:17<00:00, 46589.71it/s]\n",
      "100%|█████████████████████████████| 819393/819393 [00:02<00:00, 339797.44it/s]\n",
      "100%|██████████████████████████████| 819393/819393 [01:17<00:00, 10563.53it/s]\n"
     ]
    }
   ],
   "source": [
    "# Add column event_type \n",
    "search['event_type'] = 'search'\n",
    "# Add column 'is_search'\n",
    "search['is_search'] = 1\n",
    "search['is_test'] = 0\n",
    "# drop 123 rows where: (clicked_skus_hash != NaN) and (product_skus_hash == NaN)\n",
    "condition = (search['product_skus_hash'].isnull()) & (~search['clicked_skus_hash'].isnull())\n",
    "search = search.drop(index=search[condition].index)\n",
    "\n",
    "# convert strings to list object \n",
    "import ast\n",
    "def convert_str_to_list(x): \n",
    "    if pd.isnull(x): \n",
    "        return x\n",
    "    return ast.literal_eval(x)\n",
    "\n",
    "for col in ['product_skus_hash', 'clicked_skus_hash', 'query_vector']: \n",
    "    search[col] = search[col].progress_apply(lambda x: convert_str_to_list(x))\n"
   ]
  },
  {
   "cell_type": "code",
   "execution_count": 75,
   "id": "69c32e82-8457-41c8-bd6a-c6c73ca79acb",
   "metadata": {},
   "outputs": [
    {
     "name": "stdout",
     "output_type": "stream",
     "text": [
      "<class 'pandas.core.frame.DataFrame'>\n",
      "Index: 819393 entries, 0 to 819515\n",
      "Data columns (total 8 columns):\n",
      " #   Column                     Non-Null Count   Dtype \n",
      "---  ------                     --------------   ----- \n",
      " 0   session_id_hash            819393 non-null  object\n",
      " 1   query_vector               819393 non-null  object\n",
      " 2   clicked_skus_hash          179372 non-null  object\n",
      " 3   product_skus_hash          602754 non-null  object\n",
      " 4   server_timestamp_epoch_ms  819393 non-null  int64 \n",
      " 5   event_type                 819393 non-null  object\n",
      " 6   is_search                  819393 non-null  int64 \n",
      " 7   is_test                    819393 non-null  int64 \n",
      "dtypes: int64(3), object(5)\n",
      "memory usage: 56.3+ MB\n"
     ]
    }
   ],
   "source": [
    "search.info()"
   ]
  },
  {
   "cell_type": "markdown",
   "id": "039f5dd9-a18a-4952-9c2c-761d3f4a93ac",
   "metadata": {},
   "source": [
    "**NOTE** : On ne peut pas rouler la cellule ci-dessous puisqu'on n'a pas le fichier `rec_test_phase_1.json`."
   ]
  },
  {
   "cell_type": "code",
   "execution_count": null,
   "id": "7c9b624c-80a2-40f1-9963-1de36b486672",
   "metadata": {},
   "outputs": [],
   "source": [
    "# Add search events from test data\n",
    "# load test data \n",
    "with open('/workspace/rec_test_phase_1.json') as json_file:\n",
    "    # read the test cases from the provided file\n",
    "    test_queries = json.load(json_file)\n",
    "test_df = pd.json_normalize(test_queries, 'query')\n",
    "test_df['is_test'] = 1\n",
    "test_search = test_df[['session_id_hash', 'query_vector', 'clicked_skus_hash',\n",
    "       'product_skus_hash', 'server_timestamp_epoch_ms', 'event_type',\n",
    "       'is_search', 'is_test']]\n",
    "test_search = test_search[test_search.is_search==True]\n",
    "\n",
    "# concat test and train search data\n",
    "search = pd.concat([search, test_search])\n",
    "search.reset_index(inplace=True)"
   ]
  },
  {
   "cell_type": "markdown",
   "id": "3ce44fe9-cf2e-4a48-aa83-07eb6a532a83",
   "metadata": {},
   "source": [
    "### Compute the number of search queries per session"
   ]
  },
  {
   "cell_type": "code",
   "execution_count": 76,
   "id": "4a43de64-eb4f-4aac-968b-a650e88c0fdd",
   "metadata": {},
   "outputs": [],
   "source": [
    "tmp = search.groupby('session_id_hash').size().reset_index()\n",
    "tmp.columns = ['session_id_hash', 'nb_queries']\n",
    "search = search.merge(tmp, on='session_id_hash', how='left')"
   ]
  },
  {
   "cell_type": "markdown",
   "id": "d59af955-4b7c-4e8a-96d1-68e90c164473",
   "metadata": {},
   "source": [
    "### Include unseen clicked product to impression list\n",
    "\n",
    "2% of the search events have a clicked item that does not appear in the impression list. ==> We add the missing elements to the impression list.\n",
    "\n",
    "**NOTE** : Je ne comprends pas comment la cellule ci-dessous implémente le commentaire ci-dessus."
   ]
  },
  {
   "cell_type": "code",
   "execution_count": 78,
   "id": "2b7aed0a-ffc3-4c34-9735-d6875ec78d36",
   "metadata": {},
   "outputs": [],
   "source": [
    "def add_clicked(x): \n",
    "    if isinstance(x.clicked_skus_hash, list) and isinstance(x.product_skus_hash, list):\n",
    "        return list(set(x.product_skus_hash).union(set(x.clicked_skus_hash)))\n",
    "    return x.product_skus_hash\n",
    "search['updated_product_skus_hash'] = search.apply(add_clicked, axis=1)"
   ]
  },
  {
   "cell_type": "code",
   "execution_count": null,
   "id": "1171e42c-f49b-465f-b9fa-a5d38a60a17e",
   "metadata": {},
   "outputs": [],
   "source": []
  },
  {
   "cell_type": "code",
   "execution_count": null,
   "id": "6ad70693-4247-40d3-8638-674cedd9a44f",
   "metadata": {},
   "outputs": [],
   "source": []
  }
 ],
 "metadata": {
  "kernelspec": {
   "display_name": "Python 3 (ipykernel)",
   "language": "python",
   "name": "python3"
  },
  "language_info": {
   "codemirror_mode": {
    "name": "ipython",
    "version": 3
   },
   "file_extension": ".py",
   "mimetype": "text/x-python",
   "name": "python",
   "nbconvert_exporter": "python",
   "pygments_lexer": "ipython3",
   "version": "3.9.6"
  }
 },
 "nbformat": 4,
 "nbformat_minor": 5
}
